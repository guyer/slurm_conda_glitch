{
 "cells": [
  {
   "cell_type": "code",
   "execution_count": null,
   "id": "2bd8ba65",
   "metadata": {},
   "outputs": [],
   "source": [
    "!conda info > {snakemake.output}"
   ]
  },
  {
   "cell_type": "code",
   "execution_count": null,
   "id": "9d75d985-5875-49b7-8c00-02e5d32a61db",
   "metadata": {},
   "outputs": [],
   "source": [
    "!conda export --from-history >> {snakemake.output}"
   ]
  },
  {
   "cell_type": "code",
   "execution_count": null,
   "id": "9f424596-e888-413f-aa1e-0d5feddc863e",
   "metadata": {},
   "outputs": [],
   "source": [
    "!conda list >> {snakemake.output}"
   ]
  },
  {
   "cell_type": "code",
   "execution_count": null,
   "id": "f0184168-2615-467e-8ea8-b40c8317cfb6",
   "metadata": {},
   "outputs": [],
   "source": [
    "import fipy as fp"
   ]
  },
  {
   "cell_type": "code",
   "execution_count": null,
   "id": "1c0ed65d-61ce-415e-9a30-8bc54b502e03",
   "metadata": {},
   "outputs": [],
   "source": [
    "with open(snakemake.output[0], \"a\") as f:\n",
    "    f.write(fp.__version__)"
   ]
  }
 ],
 "metadata": {
  "kernelspec": {
   "display_name": "Python 3 (ipykernel)",
   "language": "python",
   "name": "python3"
  },
  "language_info": {
   "codemirror_mode": {
    "name": "ipython",
    "version": 3
   },
   "file_extension": ".py",
   "mimetype": "text/x-python",
   "name": "python",
   "nbconvert_exporter": "python",
   "pygments_lexer": "ipython3",
   "version": "3.11.0"
  }
 },
 "nbformat": 4,
 "nbformat_minor": 5
}
